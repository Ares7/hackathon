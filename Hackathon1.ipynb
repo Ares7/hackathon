{
 "cells": [
  {
   "cell_type": "code",
   "execution_count": 103,
   "metadata": {},
   "outputs": [],
   "source": [
    "import pandas as pd\n",
    "\n",
    "# Download data for USA\n",
    "df_state = pd.read_csv(\"D:/GlobalLandTemperaturesByState.csv\")\n",
    "df_state = df_state[(df_state.Country == 'United States')]\n",
    "\n",
    "# Clean data: delete NaN and adjust names where required\n",
    "df_state = df_state.dropna()\n",
    "df_state.loc[df_state['State'] == \"Georgia (State)\", ['State']] = \"Georgia\"\n",
    "df_state.loc[df_state['State'] == \"District Of Columbia\", ['State']] = \"District of Columbia\"\n",
    "\n",
    "# Take only Date, State and Average Temperature\n",
    "df_state = df_state.drop(columns=['Country', 'AverageTemperatureUncertainty'])\n",
    "\n",
    "# Splite the whole period into 2 parts: last 10 years and the rest\n",
    "df_state_last10 = df_state[(df_state.dt >= '2010.01.01')]\n",
    "df_state_all_wo_last10 = df_state[(df_state.dt < '2010.01.01')]\n",
    "\n",
    "# Find the average temperature grouped by a state\n",
    "df_state_last10 = df_state_last10.groupby('State').mean()\n",
    "df_state_all_wo_last10 = df_state_all_wo_last10.groupby('State').mean()\n",
    "\n",
    "# Unite 2 data frames\n",
    "df = pd.concat([df_state_last10, df_state_all_wo_last10], axis=1)\n",
    "df.columns  = ['AverageTemperatureLast10','AverageTemperatureWoLast10']\n",
    "\n",
    "# Find the difference\n",
    "df['Delta'] = df['AverageTemperatureLast10'] - df['AverageTemperatureWoLast10']\n",
    "df = df.round(2)\n",
    "\n",
    "df.to_csv(\"D:/Delta10All.csv\")\n",
    "\n",
    "# df_state_last10.index.tolist()\n",
    "\n",
    "\n",
    "\n"
   ]
  }
 ],
 "metadata": {
  "kernelspec": {
   "display_name": "Python 3",
   "language": "python",
   "name": "python3"
  },
  "language_info": {
   "codemirror_mode": {
    "name": "ipython",
    "version": 3
   },
   "file_extension": ".py",
   "mimetype": "text/x-python",
   "name": "python",
   "nbconvert_exporter": "python",
   "pygments_lexer": "ipython3",
   "version": "3.6.6"
  }
 },
 "nbformat": 4,
 "nbformat_minor": 2
}
